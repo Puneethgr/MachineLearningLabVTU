{
  "nbformat": 4,
  "nbformat_minor": 0,
  "metadata": {
    "colab": {
      "name": "MachineLearningVTULabPrograms.ipynb",
      "provenance": [],
      "collapsed_sections": []
    },
    "kernelspec": {
      "name": "python3",
      "display_name": "Python 3"
    }
  },
  "cells": [
    {
      "cell_type": "code",
      "metadata": {
        "colab": {
          "base_uri": "https://localhost:8080/"
        },
        "id": "uTvM69-SPWIf",
        "outputId": "2a879526-574f-4ac5-9c9b-236e54007c35"
      },
      "source": [
        "#Program 1 (Find S)\r\n",
        "import pandas as pd\r\n",
        "\r\n",
        "data = pd.read_csv(\"EnjoySport.csv\", header = None)\r\n",
        "print(data)\r\n",
        "\r\n",
        "numberAttributes = len(data.columns) - 1\r\n",
        "hypothesis = ['0' for _ in range(numberAttributes)]\r\n",
        "\r\n",
        "print(\"Intial Hypothesis : \", hypothesis)\r\n",
        "for index, row in data.iterrows():\r\n",
        "    if row[len(row)-1] == \"Yes\":\r\n",
        "        for colIndex in range(len(row)-1):\r\n",
        "            if hypothesis[colIndex] == '0':\r\n",
        "                hypothesis[colIndex] = row[colIndex]\r\n",
        "            elif hypothesis[colIndex] != row[colIndex]:\r\n",
        "                hypothesis[colIndex] = '?'\r\n",
        "        print(\"Hypothesis {} : {}\".format(index + 1, hypothesis))\r\n",
        "\r\n",
        "print(\"Final Hypothesis: \", hypothesis)"
      ],
      "execution_count": null,
      "outputs": [
        {
          "output_type": "stream",
          "text": [
            "       0     1       2       3     4       5    6\n",
            "0  Sunny  Warm  Normal  Strong  Warm    Same  Yes\n",
            "1  Sunny  Warm    High  Strong  Warm    Same  Yes\n",
            "2  Rainy  Cold    High  Strong  Warm  Change   No\n",
            "3  Sunny  Warm    High  Strong  Cool  Change  Yes\n",
            "Intial Hypothesis :  ['0', '0', '0', '0', '0', '0']\n",
            "Hypothesis 1 : ['Sunny', 'Warm', 'Normal', 'Strong', 'Warm', 'Same']\n",
            "Hypothesis 2 : ['Sunny', 'Warm', '?', 'Strong', 'Warm', 'Same']\n",
            "Hypothesis 4 : ['Sunny', 'Warm', '?', 'Strong', '?', '?']\n",
            "Final Hypothesis:  ['Sunny', 'Warm', '?', 'Strong', '?', '?']\n"
          ],
          "name": "stdout"
        }
      ]
    },
    {
      "cell_type": "code",
      "metadata": {
        "colab": {
          "base_uri": "https://localhost:8080/"
        },
        "id": "KAsYp2QJS5lY",
        "outputId": "bb2d5203-f8ef-4696-f84f-8411b68b081d"
      },
      "source": [
        "# Program 2 (Candidate Elimination)\r\n",
        "\r\n",
        "import pandas as pd\r\n",
        "\r\n",
        "data = pd.read_csv(\"EnjoySport.csv\", header = None)\r\n",
        "print(data)\r\n",
        "\r\n",
        "n = len(data.columns) - 1\r\n",
        "s = ['0' for _ in range(n)]\r\n",
        "g = [['?' for _ in range(n)]]\r\n",
        "\r\n",
        "def consistencyOfG(row, generalHypothesisSet):\r\n",
        "    newG = []\r\n",
        "    for h in generalHypothesisSet:\r\n",
        "        consistent = True\r\n",
        "        for colIndex in range(len(h)):\r\n",
        "            if h[colIndex] == '?':\r\n",
        "                continue\r\n",
        "            elif h[colIndex] != row[colIndex]:\r\n",
        "                consistent = False\r\n",
        "                break\r\n",
        "        if consistent == True:\r\n",
        "            newG.append(h)\r\n",
        "\r\n",
        "    return newG\r\n",
        "\r\n",
        "for index, row in data.iterrows():\r\n",
        "    print(\"----------\")\r\n",
        "    print(\"Row {} : {} \".format(index+1, row.values))\r\n",
        "\r\n",
        "    if row[len(row)-1] == \"Yes\":\r\n",
        "        g = consistencyOfG(row,g)\r\n",
        "        for colIndex in range(len(row)-1):\r\n",
        "            if s[colIndex] == '0':\r\n",
        "                s[colIndex] = row[colIndex]\r\n",
        "            elif s[colIndex] != row[colIndex]:\r\n",
        "                s[colIndex] = '?'\r\n",
        "    else:\r\n",
        "        newG = []\r\n",
        "        moreGeneral = []\r\n",
        "        for i in range(n):\r\n",
        "            for h in g:\r\n",
        "                if h[i] == '?' and s[i] != row[i]:\r\n",
        "                    newH = list(h)\r\n",
        "                    newH[i] = s[i]\r\n",
        "                    newG.append(newH)\r\n",
        "                    moreGeneral.append(h)\r\n",
        "\r\n",
        "        for generalH in moreGeneral:\r\n",
        "            if generalH in newG:\r\n",
        "                newG.remove(generalH)\r\n",
        "\r\n",
        "        g = newG\r\n",
        "\r\n",
        "    print(\"Specific Hypothesis: \", s)\r\n",
        "    print(\"General Hypothesis: \", g)"
      ],
      "execution_count": 2,
      "outputs": [
        {
          "output_type": "stream",
          "text": [
            "       0     1       2       3     4       5    6\n",
            "0  Sunny  Warm  Normal  Strong  Warm    Same  Yes\n",
            "1  Sunny  Warm    High  Strong  Warm    Same  Yes\n",
            "2  Rainy  Cold    High  Strong  Warm  Change   No\n",
            "3  Sunny  Warm    High  Strong  Cool  Change  Yes\n",
            "----------\n",
            "Row 1 : ['Sunny' 'Warm' 'Normal' 'Strong' 'Warm' 'Same' 'Yes'] \n",
            "Specific Hypothesis:  ['Sunny', 'Warm', 'Normal', 'Strong', 'Warm', 'Same']\n",
            "General Hypothesis:  [['?', '?', '?', '?', '?', '?']]\n",
            "----------\n",
            "Row 2 : ['Sunny' 'Warm' 'High' 'Strong' 'Warm' 'Same' 'Yes'] \n",
            "Specific Hypothesis:  ['Sunny', 'Warm', '?', 'Strong', 'Warm', 'Same']\n",
            "General Hypothesis:  [['?', '?', '?', '?', '?', '?']]\n",
            "----------\n",
            "Row 3 : ['Rainy' 'Cold' 'High' 'Strong' 'Warm' 'Change' 'No'] \n",
            "Specific Hypothesis:  ['Sunny', 'Warm', '?', 'Strong', 'Warm', 'Same']\n",
            "General Hypothesis:  [['Sunny', '?', '?', '?', '?', '?'], ['?', 'Warm', '?', '?', '?', '?'], ['?', '?', '?', '?', '?', 'Same']]\n",
            "----------\n",
            "Row 4 : ['Sunny' 'Warm' 'High' 'Strong' 'Cool' 'Change' 'Yes'] \n",
            "Specific Hypothesis:  ['Sunny', 'Warm', '?', 'Strong', '?', '?']\n",
            "General Hypothesis:  [['Sunny', '?', '?', '?', '?', '?'], ['?', 'Warm', '?', '?', '?', '?']]\n"
          ],
          "name": "stdout"
        }
      ]
    },
    {
      "cell_type": "code",
      "metadata": {
        "colab": {
          "base_uri": "https://localhost:8080/"
        },
        "id": "rsUdb9aH6YlK",
        "outputId": "1776b98e-2e28-4a0b-8419-ff8f27c90cc6"
      },
      "source": [
        "# Program 3 (ID3 algorithm)\r\n",
        "\r\n",
        "import pandas as pd\r\n",
        "import math\r\n",
        "from collections import Counter\r\n",
        "from pprint import pprint\r\n",
        "\r\n",
        "df = pd.read_csv(\"tennis.csv\")\r\n",
        "targetAttribute = 'PlayTennis'\r\n",
        "\r\n",
        "def entropy(probs):\r\n",
        "    return sum( [-prob*math.log(prob, 2) for prob in probs] )\r\n",
        "\r\n",
        "def entropy_of_list(targetValues):\r\n",
        "    counter = Counter(targetValues)\r\n",
        "    numberInstances = len(targetValues)*1.0     \r\n",
        "    probs = [x / numberInstances for x in counter.values()]\r\n",
        "    return entropy(probs)\r\n",
        "\r\n",
        "def information_gain(df, splitAttribute, targetAttribute, trace=0): \r\n",
        "    df_split = df.groupby(splitAttribute)\r\n",
        "    nobs = len(df.index) * 1.0\r\n",
        "    df_agg_ent = df_split.agg({targetAttribute : [entropy_of_list, lambda x: len(x)/nobs] })[targetAttribute] \r\n",
        "    df_agg_ent.columns = ['Entropy', 'PropObservations'] \r\n",
        "    new_entropy = sum(df_agg_ent['Entropy'] * df_agg_ent['PropObservations'] )\r\n",
        "    old_entropy = entropy_of_list(df[targetAttribute]) \r\n",
        "    return old_entropy - new_entropy\r\n",
        "\r\n",
        "def id3(df, targetAttribute, attributeNames, default_class=None):\r\n",
        "    counter = Counter(x for x in df[targetAttribute])\r\n",
        "    if len(counter) == 1:         \r\n",
        "        return next(iter(counter)) \r\n",
        "    elif df.empty or (not attributeNames): \r\n",
        "             return default_class \r\n",
        "    else:\r\n",
        "        gainz = [information_gain(df, attribute, targetAttribute) for attribute in attributeNames]\r\n",
        "        index_of_max = gainz.index(max(gainz)) \r\n",
        "        best_attr = attributeNames[index_of_max] \r\n",
        "        tree = {best_attr:{}}\r\n",
        "        remainingAttributeNames = [i for i in attributeNames if i != best_attr]\r\n",
        "        for attr_val, data_subset in df.groupby(best_attr): \r\n",
        "            subtree = id3(data_subset,\r\n",
        "                          targetAttribute,                         \r\n",
        "                          remainingAttributeNames,                         \r\n",
        "                          default_class)\r\n",
        "            tree[best_attr][attr_val] = subtree \r\n",
        "        return tree\r\n",
        "\r\n",
        "\r\n",
        "total_entropy = entropy_of_list(df[targetAttribute]) \r\n",
        "print(\"Entropy of given Data Set:\",total_entropy)\r\n",
        "print(\"-----------------\")\r\n",
        "\r\n",
        "attributeNames = list(df.columns)\r\n",
        "print(\"List of Attributes:\", attributeNames) \r\n",
        "attributeNames.remove(targetAttribute) \r\n",
        "print(\"Predicting Attributes:\", attributeNames)\r\n",
        "print(\"-----------------\")\r\n",
        "\r\n",
        "for attribute in attributeNames:\r\n",
        "  informationGain = str(information_gain(df, attribute, targetAttribute))\r\n",
        "  print('Info-gain for {} is : {}'.format(attribute, informationGain))\r\n",
        "print(\"-----------------\")\r\n",
        "\r\n",
        "tree = id3(df,targetAttribute ,attributeNames)\r\n",
        "print(\"\\n\\nThe Resultant Decision Tree is :\\n\") \r\n",
        "pprint(tree)"
      ],
      "execution_count": 3,
      "outputs": [
        {
          "output_type": "stream",
          "text": [
            "Entropy of given Data Set: 0.9402859586706309\n",
            "-----------------\n",
            "List of Attributes: ['Outlook', 'Temperature', 'Humidity', 'Windy', 'PlayTennis']\n",
            "Predicting Attributes: ['Outlook', 'Temperature', 'Humidity', 'Windy']\n",
            "-----------------\n",
            "Info-gain for Outlook is : 0.2467498197744391\n",
            "Info-gain for Temperature is : 0.029222565658954647\n",
            "Info-gain for Humidity is : 0.15183550136234136\n",
            "Info-gain for Windy is : 0.04812703040826927\n",
            "-----------------\n",
            "\n",
            "\n",
            "The Resultant Decision Tree is :\n",
            "\n",
            "{'Outlook': {'Overcast': 'Yes',\n",
            "             'Rainy': {'Windy': {False: 'Yes', True: 'No'}},\n",
            "             'Sunny': {'Humidity': {'High': 'No', 'Normal': 'Yes'}}}}\n"
          ],
          "name": "stdout"
        }
      ]
    },
    {
      "cell_type": "code",
      "metadata": {
        "colab": {
          "base_uri": "https://localhost:8080/"
        },
        "id": "yTsuXo6dyuOy",
        "outputId": "0db42c12-6965-49b7-eca3-2c9e2adf1a3a"
      },
      "source": [
        "#Program 4 (Backpropogation):\r\n",
        "\r\n",
        "import numpy as np\r\n",
        "from numpy.random import rand, randint\r\n",
        "\r\n",
        "inputNeurons = 2\r\n",
        "hiddenLayerNeurons = 2\r\n",
        "outputNeurons = 2\r\n",
        "\r\n",
        "input_layer = randint(1,100,inputNeurons)\r\n",
        "\r\n",
        "hidden_layer = rand(1,hiddenLayerNeurons)\r\n",
        "hidden_bias = rand(1,hiddenLayerNeurons)\r\n",
        "hidden_weights = rand(inputNeurons, hiddenLayerNeurons)\r\n",
        "\r\n",
        "output = np.array([1,0])\r\n",
        "output_bias = rand(1,outputNeurons)\r\n",
        "output_weights = rand(hiddenLayerNeurons, outputNeurons)\r\n",
        "\r\n",
        "def sigmoid(layer):\r\n",
        "    return 1/(1 + np.exp(-layer))\r\n",
        "\r\n",
        "def gradient(layer):\r\n",
        "    return layer * (1 - layer)\r\n",
        "\r\n",
        "iterations = 2000\r\n",
        "for i in range(iterations):\r\n",
        "    hidden_layer = np.dot(input_layer,hidden_weights)\r\n",
        "    hidden_layer = sigmoid(hidden_layer+hidden_bias)\r\n",
        "\r\n",
        "    output_layer = np.dot(hidden_layer,output_weights)\r\n",
        "    output_layer = sigmoid(output_layer+output_bias)\r\n",
        "\r\n",
        "    error = output - output_layer\r\n",
        "\r\n",
        "    error_terms_output = gradient(output_layer) * error\r\n",
        "    error_terms_hidden = gradient(hidden_layer) * np.dot(error_terms_output, output_weights.T)\r\n",
        "\r\n",
        "    gradient_output_weights = np.dot(hidden_layer.reshape(hiddenLayerNeurons,1),\r\n",
        "                                     error_terms_output.reshape(1,outputNeurons))\r\n",
        "\r\n",
        "    gradient_hidden_weights = np.dot(input_layer.reshape(inputNeurons,1),\r\n",
        "                                     error_terms_hidden.reshape(1,hiddenLayerNeurons))\r\n",
        "    \r\n",
        "    output_weights += (0.05 * gradient_output_weights)\r\n",
        "    hidden_weights += (0.05 * gradient_hidden_weights)\r\n",
        "\r\n",
        "    if i < 5 or i > iterations - 5:\r\n",
        "        print(\"Iteration : \", i+1)\r\n",
        "        print(\"Error: \", error)\r\n",
        "        print(\"Output layer:\", output_layer)"
      ],
      "execution_count": null,
      "outputs": [
        {
          "output_type": "stream",
          "text": [
            "Iteration :  1\n",
            "Error:  [[ 0.14508426 -0.86961955]]\n",
            "Output layer: [[0.85491574 0.86961955]]\n",
            "Iteration :  2\n",
            "Error:  [[ 0.14486175 -0.86849816]]\n",
            "Output layer: [[0.85513825 0.86849816]]\n",
            "Iteration :  3\n",
            "Error:  [[ 0.14464016 -0.8673618 ]]\n",
            "Output layer: [[0.85535984 0.8673618 ]]\n",
            "Iteration :  4\n",
            "Error:  [[ 0.14441947 -0.86621024]]\n",
            "Output layer: [[0.85558053 0.86621024]]\n",
            "Iteration :  5\n",
            "Error:  [[ 0.14419969 -0.86504327]]\n",
            "Output layer: [[0.85580031 0.86504327]]\n",
            "Iteration :  1997\n",
            "Error:  [[ 0.05073906 -0.05818771]]\n",
            "Output layer: [[0.94926094 0.05818771]]\n",
            "Iteration :  1998\n",
            "Error:  [[ 0.05072729 -0.05817024]]\n",
            "Output layer: [[0.94927271 0.05817024]]\n",
            "Iteration :  1999\n",
            "Error:  [[ 0.05071553 -0.05815278]]\n",
            "Output layer: [[0.94928447 0.05815278]]\n",
            "Iteration :  2000\n",
            "Error:  [[ 0.05070378 -0.05813534]]\n",
            "Output layer: [[0.94929622 0.05813534]]\n"
          ],
          "name": "stdout"
        }
      ]
    },
    {
      "cell_type": "code",
      "metadata": {
        "colab": {
          "base_uri": "https://localhost:8080/"
        },
        "id": "qylsAElczLEC",
        "outputId": "95c503df-5e47-4bcb-fffd-a79357361ec8"
      },
      "source": [
        "# Program 5 (Naive Bayes Golf)\r\n",
        "from pprint import pprint\r\n",
        "import pandas as pd\r\n",
        "from collections import Counter\r\n",
        "\r\n",
        "df = pd.read_csv(\"golf.csv\")\r\n",
        "targetAttribute = \"label\"\r\n",
        "\r\n",
        "attributes = list(df.columns)\r\n",
        "attributes.remove(targetAttribute)\r\n",
        "\r\n",
        "train = df.sample(frac=0.6,random_state=100)\r\n",
        "test = df.drop(train.index)\r\n",
        "\r\n",
        "table = dict()\r\n",
        "priorProb = dict()\r\n",
        "\r\n",
        "for attr_val, data_subset in train.groupby(targetAttribute):\r\n",
        "    valueCount = dict()\r\n",
        "    count = 0\r\n",
        "    for attribute in attributes:\r\n",
        "        counter = Counter(x for x in data_subset[attribute])\r\n",
        "        valueCount[attribute] = dict(counter)\r\n",
        "        count = sum(counter.values())\r\n",
        "    table[attr_val] = valueCount\r\n",
        "    priorProb[attr_val] = count\r\n",
        "\r\n",
        "print(\"------------------------------\")\r\n",
        "print(\"The Resultant table is :\")\r\n",
        "pprint(table)\r\n",
        "\r\n",
        "totalSize = test[targetAttribute].count()\r\n",
        "correctPredictions = 0\r\n",
        "\r\n",
        "for k, row in test.iterrows():\r\n",
        "\r\n",
        "    rowTuple = dict(row)\r\n",
        "    keyList = [x for x in rowTuple.keys() if x != targetAttribute]\r\n",
        "    posterioriList = list()\r\n",
        "    labelList = list()\r\n",
        "\r\n",
        "    for label in table.keys():\r\n",
        "        posteriori = 1.0\r\n",
        "        for key in keyList:\r\n",
        "            y = table[label][key]\r\n",
        "            x = rowTuple.get(key)\r\n",
        "            if x in y.keys():\r\n",
        "                posteriori *= (y[x]/sum(y.values()))\r\n",
        "\r\n",
        "        posteriori *= priorProb[label]\r\n",
        "        labelList.append(label)\r\n",
        "        posterioriList.append(posteriori)\r\n",
        "\r\n",
        "    maxProbInd = posterioriList.index(max(posterioriList))\r\n",
        "    if rowTuple[targetAttribute] == labelList[maxProbInd]:\r\n",
        "        correctPredictions += 1\r\n",
        "\r\n",
        "print(\"------------------------------\")\r\n",
        "print(\"Number of Correct Predictions : \",correctPredictions)\r\n",
        "print(\"Number of Samples: \", totalSize)\r\n",
        "print(\"Accuracy:\",100.0*correctPredictions/totalSize)"
      ],
      "execution_count": null,
      "outputs": [
        {
          "output_type": "stream",
          "text": [
            "------------------------------\n",
            "The Resultant table is :\n",
            "{\"'No'\": {'humidity': {\"'High'\": 1, \"'Normal'\": 1},\n",
            "          'id': {2: 1, 6: 1},\n",
            "          'outlook': {\"'Rain'\": 1, \"'Sunny'\": 1},\n",
            "          'temp': {\"'Cool'\": 1, \"'Hot'\": 1},\n",
            "          'wind': {\"'Strong'\": 2}},\n",
            " \"'Yes'\": {'humidity': {\"'High'\": 2, \"'Normal'\": 4},\n",
            "           'id': {3: 1, 5: 1, 7: 1, 10: 1, 12: 1, 13: 1},\n",
            "           'outlook': {\"'Overcast'\": 4, \"'Rain'\": 2},\n",
            "           'temp': {\"'Cool'\": 2, \"'Hot'\": 2, \"'Mild'\": 2},\n",
            "           'wind': {\"'Strong'\": 2, \"'Weak'\": 4}}}\n",
            "------------------------------\n",
            "Number of Correct Predictions :  3\n",
            "Number of Samples:  6\n",
            "Accuracy: 50.0\n"
          ],
          "name": "stdout"
        }
      ]
    },
    {
      "cell_type": "code",
      "metadata": {
        "colab": {
          "base_uri": "https://localhost:8080/"
        },
        "id": "Q-XhrVRQFtuf",
        "outputId": "7fdc1df8-994e-41d7-b14f-7257fb1820c0"
      },
      "source": [
        "# Program 6 (Naive Bayes on Text)\r\n",
        "\r\n",
        "import pandas as pd\r\n",
        "from sklearn.model_selection import train_test_split\r\n",
        "from sklearn.metrics import accuracy_score, precision_score, recall_score\r\n",
        "from sklearn.feature_extraction.text import CountVectorizer\r\n",
        "from sklearn.naive_bayes import MultinomialNB\r\n",
        "\r\n",
        "df = pd.read_csv(\"imdb_labelled.txt\", sep = \"\\t\", index_col = None)\r\n",
        "print(df)\r\n",
        "X_train, X_test, y_train, y_test = train_test_split(df['Text'],df['Label'], \r\n",
        "                                                    train_size = 0.8, test_size = 0.2, \r\n",
        "                                                    random_state = 100)\r\n",
        "\r\n",
        "cv = CountVectorizer()\r\n",
        "X_train_cv = cv.fit_transform(X_train)\r\n",
        "X_test_cv = cv.transform(X_test)\r\n",
        "\r\n",
        "model = MultinomialNB()\r\n",
        "model.fit(X_train_cv, y_train)\r\n",
        "predictions = model.predict(X_test_cv)\r\n",
        "\r\n",
        "print(\"Accuracy score: \", accuracy_score(y_test, predictions))\r\n",
        "print(\"Precision score: \", precision_score(y_test, predictions))\r\n",
        "print(\"Recall score: \", recall_score(y_test, predictions))"
      ],
      "execution_count": null,
      "outputs": [
        {
          "output_type": "stream",
          "text": [
            "                                                  Text  Label\n",
            "0    A very, very, very slow-moving, aimless movie ...      0\n",
            "1    Not sure who was more lost - the flat characte...      0\n",
            "2    Attempting artiness with black & white and cle...      0\n",
            "3         Very little music or anything to speak of.        0\n",
            "4    The best scene in the movie was when Gerardo i...      1\n",
            "..                                                 ...    ...\n",
            "743  I just got bored watching Jessice Lange take h...      0\n",
            "744  Unfortunately, any virtue in this film's produ...      0\n",
            "745                   In a word, it is embarrassing.        0\n",
            "746                               Exceptionally bad!        0\n",
            "747  All in all its an insult to one's intelligence...      0\n",
            "\n",
            "[748 rows x 2 columns]\n",
            "Accuracy score:  0.7933333333333333\n",
            "Precision score:  0.7746478873239436\n",
            "Recall score:  0.7857142857142857\n"
          ],
          "name": "stdout"
        }
      ]
    },
    {
      "cell_type": "code",
      "metadata": {
        "colab": {
          "base_uri": "https://localhost:8080/"
        },
        "id": "zQxqpSIxPLxF",
        "outputId": "0199bb5c-80b8-405d-d015-eaee86cebc28"
      },
      "source": [
        "# Program 7 (Bayesian Network)\r\n",
        "\r\n",
        "!pip install pgmpy\r\n",
        "\r\n",
        "import pandas as pd\r\n",
        "from pgmpy.models import BayesianModel\r\n",
        "from pgmpy.estimators import PC, MaximumLikelihoodEstimator\r\n",
        "from pgmpy.inference import VariableElimination\r\n",
        "\r\n",
        "data = pd.read_csv(\"heart.csv\")\r\n",
        "print(data.head())\r\n",
        "\r\n",
        "c = PC(data)\r\n",
        "structure = c.estimate()\r\n",
        "print(structure.edges())\r\n",
        "\r\n",
        "model = BayesianModel(structure.edges())\r\n",
        "model.fit(data, estimator = MaximumLikelihoodEstimator)\r\n",
        "\r\n",
        "infer = VariableElimination(model)\r\n",
        "q = infer.query(variables = [\"cp\",\"target\"], evidence = {\"sex\": 0, \"exang\": 1})\r\n",
        "print(q)"
      ],
      "execution_count": null,
      "outputs": [
        {
          "output_type": "stream",
          "text": [
            "Requirement already satisfied: pgmpy in /usr/local/lib/python3.6/dist-packages (0.1.13)\n",
            "Requirement already satisfied: numpy in /usr/local/lib/python3.6/dist-packages (from pgmpy) (1.19.5)\n",
            "Requirement already satisfied: networkx in /usr/local/lib/python3.6/dist-packages (from pgmpy) (2.5)\n",
            "Requirement already satisfied: tqdm in /usr/local/lib/python3.6/dist-packages (from pgmpy) (4.41.1)\n",
            "Requirement already satisfied: pyparsing in /usr/local/lib/python3.6/dist-packages (from pgmpy) (2.4.7)\n",
            "Requirement already satisfied: statsmodels in /usr/local/lib/python3.6/dist-packages (from pgmpy) (0.10.2)\n",
            "Requirement already satisfied: torch in /usr/local/lib/python3.6/dist-packages (from pgmpy) (1.7.0+cu101)\n",
            "Requirement already satisfied: joblib in /usr/local/lib/python3.6/dist-packages (from pgmpy) (1.0.0)\n",
            "Requirement already satisfied: scipy in /usr/local/lib/python3.6/dist-packages (from pgmpy) (1.4.1)\n",
            "Requirement already satisfied: pandas in /usr/local/lib/python3.6/dist-packages (from pgmpy) (1.1.5)\n",
            "Requirement already satisfied: scikit-learn in /usr/local/lib/python3.6/dist-packages (from pgmpy) (0.22.2.post1)\n",
            "Requirement already satisfied: decorator>=4.3.0 in /usr/local/lib/python3.6/dist-packages (from networkx->pgmpy) (4.4.2)\n",
            "Requirement already satisfied: patsy>=0.4.0 in /usr/local/lib/python3.6/dist-packages (from statsmodels->pgmpy) (0.5.1)\n",
            "Requirement already satisfied: dataclasses in /usr/local/lib/python3.6/dist-packages (from torch->pgmpy) (0.8)\n",
            "Requirement already satisfied: future in /usr/local/lib/python3.6/dist-packages (from torch->pgmpy) (0.16.0)\n",
            "Requirement already satisfied: typing-extensions in /usr/local/lib/python3.6/dist-packages (from torch->pgmpy) (3.7.4.3)\n",
            "Requirement already satisfied: pytz>=2017.2 in /usr/local/lib/python3.6/dist-packages (from pandas->pgmpy) (2018.9)\n",
            "Requirement already satisfied: python-dateutil>=2.7.3 in /usr/local/lib/python3.6/dist-packages (from pandas->pgmpy) (2.8.1)\n",
            "Requirement already satisfied: six in /usr/local/lib/python3.6/dist-packages (from patsy>=0.4.0->statsmodels->pgmpy) (1.15.0)\n"
          ],
          "name": "stdout"
        },
        {
          "output_type": "stream",
          "text": [
            "Working for n conditional variables: 0:   0%|          | 0/5 [00:00<?, ?it/s]"
          ],
          "name": "stderr"
        },
        {
          "output_type": "stream",
          "text": [
            "   age  sex  cp  trestbps  chol  fbs  ...  exang  oldpeak  slope  ca  thal  target\n",
            "0   63    1   3       145   233    1  ...      0      2.3      0   0     1       1\n",
            "1   37    1   2       130   250    0  ...      0      3.5      0   0     2       1\n",
            "2   41    0   1       130   204    0  ...      0      1.4      2   0     2       1\n",
            "3   56    1   1       120   236    0  ...      0      0.8      2   0     2       1\n",
            "4   57    0   0       120   354    0  ...      1      0.6      2   0     2       1\n",
            "\n",
            "[5 rows x 14 columns]\n"
          ],
          "name": "stdout"
        },
        {
          "output_type": "stream",
          "text": [
            "Working for n conditional variables: 5: 100%|██████████| 5/5 [00:02<00:00,  1.75it/s]\n",
            "Finding Elimination Order: : 100%|██████████| 4/4 [00:00<00:00, 1275.16it/s]\n",
            "Eliminating: chol: 100%|██████████| 4/4 [00:00<00:00, 291.20it/s]"
          ],
          "name": "stderr"
        },
        {
          "output_type": "stream",
          "text": [
            "[('ca', 'target'), ('thal', 'target'), ('cp', 'target'), ('exang', 'target'), ('exang', 'cp'), ('sex', 'thal'), ('oldpeak', 'chol')]\n",
            "+-------+-----------+------------------+\n",
            "| cp    | target    |   phi(cp,target) |\n",
            "+=======+===========+==================+\n",
            "| cp(0) | target(0) |           0.5586 |\n",
            "+-------+-----------+------------------+\n",
            "| cp(0) | target(1) |           0.2495 |\n",
            "+-------+-----------+------------------+\n",
            "| cp(1) | target(0) |           0.0070 |\n",
            "+-------+-----------+------------------+\n",
            "| cp(1) | target(1) |           0.0334 |\n",
            "+-------+-----------+------------------+\n",
            "| cp(2) | target(0) |           0.0309 |\n",
            "+-------+-----------+------------------+\n",
            "| cp(2) | target(1) |           0.0802 |\n",
            "+-------+-----------+------------------+\n",
            "| cp(3) | target(0) |           0.0070 |\n",
            "+-------+-----------+------------------+\n",
            "| cp(3) | target(1) |           0.0334 |\n",
            "+-------+-----------+------------------+\n"
          ],
          "name": "stdout"
        },
        {
          "output_type": "stream",
          "text": [
            "\n"
          ],
          "name": "stderr"
        }
      ]
    },
    {
      "cell_type": "code",
      "metadata": {
        "colab": {
          "base_uri": "https://localhost:8080/"
        },
        "id": "ZPSyadhVPLqQ",
        "outputId": "89805525-e02d-4a90-d1f8-776154990c75"
      },
      "source": [
        "# Program 8 (KMeans and EM)\r\n",
        "\r\n",
        "from sklearn import datasets\r\n",
        "from sklearn.model_selection import train_test_split\r\n",
        "from sklearn.metrics import accuracy_score\r\n",
        "from sklearn.cluster import KMeans \r\n",
        "from sklearn.mixture import GaussianMixture\r\n",
        "\r\n",
        "iris = datasets.load_iris()\r\n",
        "X_test, X_train, y_test, y_train = train_test_split(\r\n",
        "    iris.data, iris.target, train_size = 0.8, test_size = 0.2, random_state = 100\r\n",
        ")\r\n",
        "\r\n",
        "model = KMeans(n_clusters = 3)\r\n",
        "model.fit(X_train,y_train)\r\n",
        "predictions = model.predict(X_test)\r\n",
        "print(\"KMeans Accuracy : \", accuracy_score(y_test, predictions))\r\n",
        "\r\n",
        "model2 = GaussianMixture(n_components = 3)\r\n",
        "model2.fit(X_train,y_train)\r\n",
        "predictions2 = model2.predict(X_test)\r\n",
        "print(\"EM Accuracy : \", accuracy_score(y_test, predictions2))"
      ],
      "execution_count": null,
      "outputs": [
        {
          "output_type": "stream",
          "text": [
            "KMeans Accuracy :  0.2\n",
            "EM Accuracy :  0.11666666666666667\n"
          ],
          "name": "stdout"
        }
      ]
    },
    {
      "cell_type": "code",
      "metadata": {
        "colab": {
          "base_uri": "https://localhost:8080/"
        },
        "id": "QAWlomuXSYW6",
        "outputId": "bb6c8619-0b86-45cc-b6f9-f5716c8eff1f"
      },
      "source": [
        "# Program 9 (KNN):\r\n",
        "\r\n",
        "from sklearn import datasets\r\n",
        "from sklearn.model_selection import train_test_split\r\n",
        "from sklearn.metrics import classification_report, confusion_matrix\r\n",
        "from sklearn.neighbors import KNeighborsClassifier\r\n",
        "\r\n",
        "iris = datasets.load_iris()\r\n",
        "X_train, X_test, y_train, y_test = train_test_split(\r\n",
        "    iris.data, iris.target, train_size = 0.8, test_size = 0.2, random_state = 100\r\n",
        ")\r\n",
        "\r\n",
        "model = KNeighborsClassifier(n_neighbors = 3)\r\n",
        "model.fit(X_train,y_train)\r\n",
        "predictions = model.predict(X_test)\r\n",
        "\r\n",
        "print(\"Confusion Matrix : \")\r\n",
        "print(confusion_matrix(y_test, predictions))\r\n",
        "print(\"Classfication Report : \")\r\n",
        "print(classification_report(y_test,predictions))"
      ],
      "execution_count": null,
      "outputs": [
        {
          "output_type": "stream",
          "text": [
            "Confusion Matrix : \n",
            "[[11  0  0]\n",
            " [ 0  6  0]\n",
            " [ 0  0 13]]\n",
            "Classfication Report : \n",
            "              precision    recall  f1-score   support\n",
            "\n",
            "           0       1.00      1.00      1.00        11\n",
            "           1       1.00      1.00      1.00         6\n",
            "           2       1.00      1.00      1.00        13\n",
            "\n",
            "    accuracy                           1.00        30\n",
            "   macro avg       1.00      1.00      1.00        30\n",
            "weighted avg       1.00      1.00      1.00        30\n",
            "\n"
          ],
          "name": "stdout"
        }
      ]
    },
    {
      "cell_type": "code",
      "metadata": {
        "id": "u6YvBECkVhyn",
        "colab": {
          "base_uri": "https://localhost:8080/",
          "height": 548
        },
        "outputId": "12180ee3-bf5b-4443-a36b-6a3b8801d691"
      },
      "source": [
        "import numpy as np\r\n",
        "import matplotlib.pyplot as plt\r\n",
        "\r\n",
        "def radial_kernel(x0, x, tau):\r\n",
        "    return np.exp(np.sum((x - x0) ** 2, axis=1) / (-2 * tau ** 2))\r\n",
        "\r\n",
        "def local_regression(x0, x, y, tau):\r\n",
        "    x0 = np.r_[1, x0]\r\n",
        "    x = np.c_[np.ones(len(x)), x]\r\n",
        "    xw = x.T * radial_kernel(x0, x, tau)\r\n",
        "    beta = np.linalg.pinv(xw @ x) @ xw @ y\r\n",
        "    return x0 @ beta\r\n",
        "\r\n",
        "def plot_lr(tau):\r\n",
        "    x = np.linspace(-5, 5, 1000)\r\n",
        "    y = np.log(np.abs((x ** 2) - 1) + 0.5)\r\n",
        "    x += np.random.normal(scale=0.05, size=1000)\r\n",
        "\r\n",
        "    domain = np.linspace(-5, 5, 1000)\r\n",
        "    predictions = [local_regression(x0, x, y, tau) for x0 in domain]\r\n",
        "    \r\n",
        "    plt.scatter(x, y, alpha=0.3)\r\n",
        "    plt.plot(domain, predictions, color=\"red\")\r\n",
        "    return plt\r\n",
        "\r\n",
        "print(\"Tau = \", 0.03)\r\n",
        "plot_lr(0.03).show()\r\n",
        "\r\n",
        "print(\"Tau = \", 5)\r\n",
        "plot_lr(5).show()"
      ],
      "execution_count": 4,
      "outputs": [
        {
          "output_type": "stream",
          "text": [
            "Tau =  0.03\n"
          ],
          "name": "stdout"
        },
        {
          "output_type": "display_data",
          "data": {
            "image/png": "[encoded data removed]",
            "text/plain": [
              "<Figure size 432x288 with 1 Axes>"
            ]
          },
          "metadata": {
            "tags": [],
            "needs_background": "light"
          }
        },
        {
          "output_type": "stream",
          "text": [
            "Tau =  5\n"
          ],
          "name": "stdout"
        },
        {
          "output_type": "display_data",
          "data": {
            "image/png": "[encoded data removed]",
            "text/plain": [
              "<Figure size 432x288 with 1 Axes>"
            ]
          },
          "metadata": {
            "tags": [],
            "needs_background": "light"
          }
        }
      ]
    }
  ]
}